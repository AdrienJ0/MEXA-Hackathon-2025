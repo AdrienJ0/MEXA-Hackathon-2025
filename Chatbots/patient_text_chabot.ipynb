{
  "nbformat": 4,
  "nbformat_minor": 0,
  "metadata": {
    "colab": {
      "provenance": []
    },
    "kernelspec": {
      "name": "python3",
      "display_name": "Python 3"
    },
    "language_info": {
      "name": "python"
    }
  },
  "cells": [
    {
      "cell_type": "code",
      "execution_count": null,
      "metadata": {
        "id": "QhoCnpxssHd4"
      },
      "outputs": [],
      "source": [
        "# Install the python package for google gen AI\n",
        "!pip install -q -U google-generativeai"
      ]
    },
    {
      "cell_type": "code",
      "source": [
        "# Import necessary packages and define helper function to render output of models to markdown\n",
        "import pathlib\n",
        "import textwrap\n",
        "\n",
        "import google.generativeai as genai\n",
        "\n",
        "from IPython.display import display\n",
        "from IPython.display import Markdown\n",
        "\n",
        "\n",
        "def to_markdown(text):\n",
        "  text = text.replace('•', '  *')\n",
        "  return Markdown(textwrap.indent(text, '> ', predicate=lambda _: True))\n",
        "\n",
        "# Used to securely store your API key\n",
        "from google.colab import userdata"
      ],
      "metadata": {
        "id": "RUcnRU_TsK4m"
      },
      "execution_count": null,
      "outputs": []
    },
    {
      "cell_type": "code",
      "source": [
        "# Grab API Key from your secrets, add it to secrets if its not there (on the left hand panel)\n",
        "GOOGLE_API_KEY=userdata.get('GOOGLE_API_KEY')\n",
        "\n",
        "# Configure genai to use your API Key\n",
        "genai.configure(api_key=GOOGLE_API_KEY)"
      ],
      "metadata": {
        "id": "wpEF9u56sSwF"
      },
      "execution_count": null,
      "outputs": []
    },
    {
      "cell_type": "code",
      "source": [
        "# List the available gemini models\n",
        "for m in genai.list_models():\n",
        "  if 'generateContent' in m.supported_generation_methods:\n",
        "    print(m.name)"
      ],
      "metadata": {
        "colab": {
          "base_uri": "https://localhost:8080/",
          "height": 559
        },
        "id": "OE8PBt0VsmwZ",
        "outputId": "208e4b17-4c63-4c40-9fc7-8da9cec3b581"
      },
      "execution_count": null,
      "outputs": [
        {
          "output_type": "stream",
          "name": "stdout",
          "text": [
            "models/gemini-1.0-pro-latest\n",
            "models/gemini-1.0-pro\n",
            "models/gemini-pro\n",
            "models/gemini-1.0-pro-001\n",
            "models/gemini-1.0-pro-vision-latest\n",
            "models/gemini-pro-vision\n",
            "models/gemini-1.5-pro-latest\n",
            "models/gemini-1.5-pro-001\n",
            "models/gemini-1.5-pro-002\n",
            "models/gemini-1.5-pro\n",
            "models/gemini-1.5-pro-exp-0801\n",
            "models/gemini-1.5-pro-exp-0827\n",
            "models/gemini-1.5-flash-latest\n",
            "models/gemini-1.5-flash-001\n",
            "models/gemini-1.5-flash-001-tuning\n",
            "models/gemini-1.5-flash\n",
            "models/gemini-1.5-flash-exp-0827\n",
            "models/gemini-1.5-flash-002\n",
            "models/gemini-1.5-flash-8b\n",
            "models/gemini-1.5-flash-8b-001\n",
            "models/gemini-1.5-flash-8b-latest\n",
            "models/gemini-1.5-flash-8b-exp-0827\n",
            "models/gemini-1.5-flash-8b-exp-0924\n",
            "models/learnlm-1.5-pro-experimental\n",
            "models/gemini-exp-1114\n",
            "models/gemini-exp-1121\n"
          ]
        }
      ]
    },
    {
      "cell_type": "code",
      "source": [
        "# Select a model and instantiate a GenerativeModel\n",
        "model = genai.GenerativeModel('gemini-1.5-flash')"
      ],
      "metadata": {
        "id": "KOPCRzsisqz1"
      },
      "execution_count": null,
      "outputs": []
    },
    {
      "cell_type": "code",
      "source": [
        "# You can now use the model defind about to generate content base on inputs\n",
        "response = model.generate_content(\"What is the meaning of life?\")"
      ],
      "metadata": {
        "id": "gATDUjplsvyl"
      },
      "execution_count": null,
      "outputs": []
    },
    {
      "cell_type": "code",
      "source": [
        "# This makes the response easier to read\n",
        "to_markdown(response.text)"
      ],
      "metadata": {
        "colab": {
          "base_uri": "https://localhost:8080/",
          "height": 306
        },
        "id": "tduscf5Gsytd",
        "outputId": "0b83f6cf-0355-4cf4-c3ad-15a6ed787499"
      },
      "execution_count": null,
      "outputs": [
        {
          "output_type": "execute_result",
          "data": {
            "text/plain": [
              "<IPython.core.display.Markdown object>"
            ],
            "text/markdown": "> The meaning of life is a question that has been pondered by philosophers, theologians, and individuals for centuries.  There's no single, universally accepted answer.  The meaning is often considered to be subjective and personal, varying greatly from person to person.\n> \n> Some common perspectives include:\n> \n> * **Nihilism:**  The belief that life is inherently without meaning or purpose.\n> * **Existentialism:** The belief that individuals create their own meaning and purpose through their choices and actions.\n> * **Absurdism:** The belief that the search for meaning in a meaningless universe is inherently absurd, but that this absurdity should be embraced.\n> * **Religious or Spiritual Beliefs:** Many religions and spiritual practices offer answers about the meaning of life, often involving serving a higher power, following divine commandments, or achieving enlightenment.\n> * **Hedonism:** The pursuit of pleasure and avoidance of pain as the primary goal in life.\n> * **Altruism:** Finding meaning in serving others and contributing to the well-being of society.\n> * **Self-actualization:**  Focusing on personal growth, fulfilling one's potential, and achieving a sense of self-completion.\n> \n> \n> Ultimately, the meaning of life is what you make it. It's a question of personal discovery and ongoing exploration.  Instead of searching for a definitive answer, many find fulfillment in pursuing values, building relationships, contributing to something larger than themselves, and experiencing the joys and challenges of life.\n"
          },
          "metadata": {},
          "execution_count": 21
        }
      ]
    },
    {
      "cell_type": "code",
      "source": [
        "# Add and image to files, on the left menu and generate text fromt he image\n",
        "# Import Image packages\n",
        "import PIL.Image\n",
        "\n",
        "# change the name here to the name of the file you uploaded\n",
        "img = PIL.Image.open('pancakes.jpg')\n",
        "img\n",
        "model = genai.GenerativeModel(\n",
        "    model_name = 'gemini-1.5-flash'\n",
        "    safety_settings = ,\n",
        "    generation_config =,\n",
        "    system_instruction = \"You are an expert psychologist.  Your task is to help people with mental health diseases. Talk to them in a kind, respecfull and understandable way. Don't forget you are the expert clinician, every of your answer should be the most objective possible in your answers.\"\n",
        "    )\n",
        "# pass in text and the image to generate and output\n",
        "response = model.generate_content([\"Write a short, engaging blog post based on this picture. It should include a description of the meal in the photo and talk about my journey meal prepping.\", img], stream=True)\n",
        "response.resolve()"
      ],
      "metadata": {
        "id": "er2bBsXlsyeB"
      },
      "execution_count": null,
      "outputs": []
    },
    {
      "cell_type": "code",
      "source": [
        "# Make the text output easier to read\n",
        "to_markdown(response.text)"
      ],
      "metadata": {
        "colab": {
          "base_uri": "https://localhost:8080/",
          "height": 324
        },
        "id": "dy13UI30tYod",
        "outputId": "08f332fe-0b69-430e-8fc4-06f1f37d5643"
      },
      "execution_count": null,
      "outputs": [
        {
          "output_type": "execute_result",
          "data": {
            "text/plain": [
              "<IPython.core.display.Markdown object>"
            ],
            "text/markdown": "> ## From Zero to Hero: My Meal Prep Journey (and a Seriously Delicious Breakfast!)\n> \n> Let's be honest, breakfast prep has never been my strong suit.  Usually, it's a frantic grab-and-go situation, leaving me running late and feeling less than fueled.  But that all changed! I finally dove into the world of meal prepping, and let me tell you, it's a game-changer.\n> \n> This gorgeous plate of deliciousness is proof.  Three golden-brown crumpets, perfectly toasted and sprinkled with powdered sugar, form the base.  They’re piled high with a rainbow of fresh berries – juicy strawberries, plump raspberries, sweet blueberries, and dark, rich blackberries.  A drizzle of honey adds the perfect touch of sweetness, and a sprig of mint offers a refreshing pop of green. It's the kind of breakfast that feels both indulgent and healthy.\n> \n> \n> My journey to meal prep mastery hasn't been seamless.  There were initial failures – soggy overnight oats, wilted spinach.  But with each attempt, I learned, adapted, and improved my technique. I started small, prepping one or two things a week, then gradually expanded.  Now, I spend an hour or two on the weekend preparing breakfasts for the entire week.  This means more time in the mornings to actually *enjoy* my food and start my day calmly.\n> \n> \n> This crumpet masterpiece is my latest victory. It's quick to assemble (especially since the crumpets were made ahead of time!) and provides sustained energy to power me through my morning.  It shows that meal prepping isn't just about grabbing sad desk lunches; it's about creating delicious, satisfying meals that make healthy eating a joy.  And honestly, looking at this picture, can you blame me for embracing this new found breakfast routine?  What are your favorite meal prep wins? Share them in the comments!\n"
          },
          "metadata": {},
          "execution_count": 23
        }
      ]
    }
  ]
}