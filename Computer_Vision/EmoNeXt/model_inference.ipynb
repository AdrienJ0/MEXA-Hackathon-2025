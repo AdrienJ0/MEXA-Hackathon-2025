{
 "cells": [
  {
   "cell_type": "code",
   "execution_count": null,
   "metadata": {
    "vscode": {
     "languageId": "plaintext"
    }
   },
   "outputs": [],
   "source": [
    "import torch\n",
    "from"
   ]
  },
  {
   "cell_type": "code",
   "execution_count": null,
   "metadata": {
    "vscode": {
     "languageId": "plaintext"
    }
   },
   "outputs": [],
   "source": [
    "model_size = \"tiny\"\n",
    "num_classes = \n",
    "in_22k = False\n",
    "\n",
    "if model_size == \"tiny\":\n",
    "    depths = [3, 3, 9, 3]\n",
    "    dims = [96, 192, 384, 768]\n",
    "    url = (\n",
    "        model_urls[\"convnext_tiny_22k\"]\n",
    "        if in_22k\n",
    "        else model_urls[\"convnext_tiny_1k\"]\n",
    "    )\n",
    "\n",
    "default_num_classes = 1000\n",
    "if in_22k:\n",
    "    default_num_classes = 21841\n",
    "\n",
    "net = EmoNeXt(\n",
    "    depths=depths, dims=dims, num_classes=default_num_classes, drop_path_rate=0.1\n",
    ")\n",
    "\n",
    "\n",
    "model_path = \"\n",
    "model_checkpoint = torch.load(model_path)\n",
    "model.load_state_dict()\n",
    "model.eval()"
   ]
  },
  {
   "cell_type": "code",
   "execution_count": null,
   "metadata": {
    "vscode": {
     "languageId": "plaintext"
    }
   },
   "outputs": [],
   "source": [
    "with torch.no_g"
   ]
  }
 ],
 "metadata": {
  "language_info": {
   "name": "python"
  }
 },
 "nbformat": 4,
 "nbformat_minor": 2
}
